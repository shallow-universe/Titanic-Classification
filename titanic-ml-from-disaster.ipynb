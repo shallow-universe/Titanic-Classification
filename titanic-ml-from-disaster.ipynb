{
 "cells": [
  {
   "cell_type": "code",
   "execution_count": 1,
   "id": "189aec02",
   "metadata": {
    "_cell_guid": "b1076dfc-b9ad-4769-8c92-a6c4dae69d19",
    "_uuid": "8f2839f25d086af736a60e9eeb907d3b93b6e0e5",
    "execution": {
     "iopub.execute_input": "2023-12-09T11:22:27.596064Z",
     "iopub.status.busy": "2023-12-09T11:22:27.595446Z",
     "iopub.status.idle": "2023-12-09T11:22:28.144678Z",
     "shell.execute_reply": "2023-12-09T11:22:28.142641Z"
    },
    "papermill": {
     "duration": 0.569836,
     "end_time": "2023-12-09T11:22:28.148035",
     "exception": false,
     "start_time": "2023-12-09T11:22:27.578199",
     "status": "completed"
    },
    "tags": []
   },
   "outputs": [],
   "source": [
    "# This Python 3 environment comes with many helpful analytics libraries installed\n",
    "# It is defined by the kaggle/python Docker image: https://github.com/kaggle/docker-python\n",
    "# For example, here's several helpful packages to load\n",
    "\n",
    "import numpy as np # linear algebra\n",
    "import pandas as pd # data processing, CSV file I/O (e.g. pd.read_csv)\n",
    "\n",
    "# Input data files are available in the read-only \"../input/\" directory\n",
    "# For example, running this (by clicking run or pressing Shift+Enter) will list all files under the input directory\n",
    "\n",
    "import os\n",
    "for dirname, _, filenames in os.walk('/kaggle/input'):\n",
    "    for filename in filenames:\n",
    "        print(os.path.join(dirname, filename))\n",
    "\n",
    "# You can write up to 20GB to the current directory (/kaggle/working/) that gets preserved as output when you create a version using \"Save & Run All\" \n",
    "# You can also write temporary files to /kaggle/temp/, but they won't be saved outside of the current session"
   ]
  },
  {
   "cell_type": "code",
   "execution_count": 2,
   "id": "96053d11",
   "metadata": {
    "execution": {
     "iopub.execute_input": "2023-12-09T11:22:28.178388Z",
     "iopub.status.busy": "2023-12-09T11:22:28.177792Z",
     "iopub.status.idle": "2023-12-09T11:22:30.243599Z",
     "shell.execute_reply": "2023-12-09T11:22:30.242077Z"
    },
    "papermill": {
     "duration": 2.084824,
     "end_time": "2023-12-09T11:22:30.246958",
     "exception": false,
     "start_time": "2023-12-09T11:22:28.162134",
     "status": "completed"
    },
    "tags": []
   },
   "outputs": [],
   "source": [
    "import matplotlib.pyplot as plt\n",
    "import seaborn as sns\n",
    "\n",
    "from sklearn.preprocessing import normalize"
   ]
  },
  {
   "cell_type": "markdown",
   "id": "892efffa",
   "metadata": {
    "papermill": {
     "duration": 0.014725,
     "end_time": "2023-12-09T11:22:30.275878",
     "exception": false,
     "start_time": "2023-12-09T11:22:30.261153",
     "status": "completed"
    },
    "tags": []
   },
   "source": [
    "## Reading Data"
   ]
  },
  {
   "cell_type": "code",
   "execution_count": 3,
   "id": "a03e03a8",
   "metadata": {
    "execution": {
     "iopub.execute_input": "2023-12-09T11:22:30.307916Z",
     "iopub.status.busy": "2023-12-09T11:22:30.307391Z",
     "iopub.status.idle": "2023-12-09T11:22:30.363052Z",
     "shell.execute_reply": "2023-12-09T11:22:30.361669Z"
    },
    "papermill": {
     "duration": 0.077583,
     "end_time": "2023-12-09T11:22:30.367555",
     "exception": false,
     "start_time": "2023-12-09T11:22:30.289972",
     "status": "completed"
    },
    "tags": []
   },
   "outputs": [
    {
     "name": "stdout",
     "output_type": "stream",
     "text": [
      "(891, 12)\n"
     ]
    },
    {
     "data": {
      "text/html": [
       "<div>\n",
       "<style scoped>\n",
       "    .dataframe tbody tr th:only-of-type {\n",
       "        vertical-align: middle;\n",
       "    }\n",
       "\n",
       "    .dataframe tbody tr th {\n",
       "        vertical-align: top;\n",
       "    }\n",
       "\n",
       "    .dataframe thead th {\n",
       "        text-align: right;\n",
       "    }\n",
       "</style>\n",
       "<table border=\"1\" class=\"dataframe\">\n",
       "  <thead>\n",
       "    <tr style=\"text-align: right;\">\n",
       "      <th></th>\n",
       "      <th>PassengerId</th>\n",
       "      <th>Survived</th>\n",
       "      <th>Pclass</th>\n",
       "      <th>Name</th>\n",
       "      <th>Sex</th>\n",
       "      <th>Age</th>\n",
       "      <th>SibSp</th>\n",
       "      <th>Parch</th>\n",
       "      <th>Ticket</th>\n",
       "      <th>Fare</th>\n",
       "      <th>Cabin</th>\n",
       "      <th>Embarked</th>\n",
       "    </tr>\n",
       "  </thead>\n",
       "  <tbody>\n",
       "    <tr>\n",
       "      <th>0</th>\n",
       "      <td>1</td>\n",
       "      <td>0</td>\n",
       "      <td>3</td>\n",
       "      <td>Braund, Mr. Owen Harris</td>\n",
       "      <td>male</td>\n",
       "      <td>22.0</td>\n",
       "      <td>1</td>\n",
       "      <td>0</td>\n",
       "      <td>A/5 21171</td>\n",
       "      <td>7.2500</td>\n",
       "      <td>NaN</td>\n",
       "      <td>S</td>\n",
       "    </tr>\n",
       "    <tr>\n",
       "      <th>1</th>\n",
       "      <td>2</td>\n",
       "      <td>1</td>\n",
       "      <td>1</td>\n",
       "      <td>Cumings, Mrs. John Bradley (Florence Briggs Th...</td>\n",
       "      <td>female</td>\n",
       "      <td>38.0</td>\n",
       "      <td>1</td>\n",
       "      <td>0</td>\n",
       "      <td>PC 17599</td>\n",
       "      <td>71.2833</td>\n",
       "      <td>C85</td>\n",
       "      <td>C</td>\n",
       "    </tr>\n",
       "    <tr>\n",
       "      <th>2</th>\n",
       "      <td>3</td>\n",
       "      <td>1</td>\n",
       "      <td>3</td>\n",
       "      <td>Heikkinen, Miss. Laina</td>\n",
       "      <td>female</td>\n",
       "      <td>26.0</td>\n",
       "      <td>0</td>\n",
       "      <td>0</td>\n",
       "      <td>STON/O2. 3101282</td>\n",
       "      <td>7.9250</td>\n",
       "      <td>NaN</td>\n",
       "      <td>S</td>\n",
       "    </tr>\n",
       "    <tr>\n",
       "      <th>3</th>\n",
       "      <td>4</td>\n",
       "      <td>1</td>\n",
       "      <td>1</td>\n",
       "      <td>Futrelle, Mrs. Jacques Heath (Lily May Peel)</td>\n",
       "      <td>female</td>\n",
       "      <td>35.0</td>\n",
       "      <td>1</td>\n",
       "      <td>0</td>\n",
       "      <td>113803</td>\n",
       "      <td>53.1000</td>\n",
       "      <td>C123</td>\n",
       "      <td>S</td>\n",
       "    </tr>\n",
       "    <tr>\n",
       "      <th>4</th>\n",
       "      <td>5</td>\n",
       "      <td>0</td>\n",
       "      <td>3</td>\n",
       "      <td>Allen, Mr. William Henry</td>\n",
       "      <td>male</td>\n",
       "      <td>35.0</td>\n",
       "      <td>0</td>\n",
       "      <td>0</td>\n",
       "      <td>373450</td>\n",
       "      <td>8.0500</td>\n",
       "      <td>NaN</td>\n",
       "      <td>S</td>\n",
       "    </tr>\n",
       "  </tbody>\n",
       "</table>\n",
       "</div>"
      ],
      "text/plain": [
       "   PassengerId  Survived  Pclass  \\\n",
       "0            1         0       3   \n",
       "1            2         1       1   \n",
       "2            3         1       3   \n",
       "3            4         1       1   \n",
       "4            5         0       3   \n",
       "\n",
       "                                                Name     Sex   Age  SibSp  \\\n",
       "0                            Braund, Mr. Owen Harris    male  22.0      1   \n",
       "1  Cumings, Mrs. John Bradley (Florence Briggs Th...  female  38.0      1   \n",
       "2                             Heikkinen, Miss. Laina  female  26.0      0   \n",
       "3       Futrelle, Mrs. Jacques Heath (Lily May Peel)  female  35.0      1   \n",
       "4                           Allen, Mr. William Henry    male  35.0      0   \n",
       "\n",
       "   Parch            Ticket     Fare Cabin Embarked  \n",
       "0      0         A/5 21171   7.2500   NaN        S  \n",
       "1      0          PC 17599  71.2833   C85        C  \n",
       "2      0  STON/O2. 3101282   7.9250   NaN        S  \n",
       "3      0            113803  53.1000  C123        S  \n",
       "4      0            373450   8.0500   NaN        S  "
      ]
     },
     "execution_count": 3,
     "metadata": {},
     "output_type": "execute_result"
    }
   ],
   "source": [
    "df = pd.read_csv('train.csv')\n",
    "print(df.shape)\n",
    "df.head()"
   ]
  },
  {
   "cell_type": "code",
   "execution_count": 4,
   "id": "103635fb",
   "metadata": {
    "execution": {
     "iopub.execute_input": "2023-12-09T11:22:30.402183Z",
     "iopub.status.busy": "2023-12-09T11:22:30.401475Z",
     "iopub.status.idle": "2023-12-09T11:22:30.411602Z",
     "shell.execute_reply": "2023-12-09T11:22:30.410024Z"
    },
    "papermill": {
     "duration": 0.032561,
     "end_time": "2023-12-09T11:22:30.415033",
     "exception": false,
     "start_time": "2023-12-09T11:22:30.382472",
     "status": "completed"
    },
    "tags": []
   },
   "outputs": [
    {
     "data": {
      "text/plain": [
       "PassengerId      int64\n",
       "Survived         int64\n",
       "Pclass           int64\n",
       "Name            object\n",
       "Sex             object\n",
       "Age            float64\n",
       "SibSp            int64\n",
       "Parch            int64\n",
       "Ticket          object\n",
       "Fare           float64\n",
       "Cabin           object\n",
       "Embarked        object\n",
       "dtype: object"
      ]
     },
     "execution_count": 4,
     "metadata": {},
     "output_type": "execute_result"
    }
   ],
   "source": [
    "df.dtypes"
   ]
  },
  {
   "cell_type": "markdown",
   "id": "61f92a93",
   "metadata": {
    "papermill": {
     "duration": 0.017388,
     "end_time": "2023-12-09T11:22:30.448808",
     "exception": false,
     "start_time": "2023-12-09T11:22:30.431420",
     "status": "completed"
    },
    "tags": []
   },
   "source": [
    "* \"PassengerId\" attribute is an unique identifier column, which won't help us in prediction.\n",
    "* \"Survived\" attribute is our target class.\n",
    "* \"Pclass\" attribute is an ordinal variable - we need to decide whether to treat it as a categorical variable or numerical.\n",
    "* \"Name\" - Not going to help us in prediction.\n",
    "* \"Sex\" - Categorical variable, Need to perform OHE.\n",
    "* \"Age\" - Numeric variable, need to normalize/standardize.\n",
    "* \"SibSp\" - Numeric variable, need to normalize/standardize.\n",
    "* \"Parch\" - Numeric variable, need to normalize/standardize.\n",
    "* \"Ticket\" - Alphanumeric. Unique Identifier. No use in prediction. \n",
    "* \"Fare\" - Numeric variable, need to normalize/standardize.\n",
    "* \"Cabin\" - Categorical variable, Need to perform OHE.\n",
    "* \"Embarked\" - Categorical variable, Need to perform OHE."
   ]
  },
  {
   "cell_type": "code",
   "execution_count": 5,
   "id": "9baa533b",
   "metadata": {
    "execution": {
     "iopub.execute_input": "2023-12-09T11:22:30.486369Z",
     "iopub.status.busy": "2023-12-09T11:22:30.485957Z",
     "iopub.status.idle": "2023-12-09T11:22:30.500450Z",
     "shell.execute_reply": "2023-12-09T11:22:30.498913Z"
    },
    "papermill": {
     "duration": 0.036589,
     "end_time": "2023-12-09T11:22:30.503759",
     "exception": false,
     "start_time": "2023-12-09T11:22:30.467170",
     "status": "completed"
    },
    "tags": []
   },
   "outputs": [],
   "source": [
    "# ACTION CELL\n",
    "\n",
    "df = df.drop([\"PassengerId\", \"Name\", \"Ticket\"], axis = 1)"
   ]
  },
  {
   "cell_type": "markdown",
   "id": "38210a2d",
   "metadata": {
    "papermill": {
     "duration": 0.016405,
     "end_time": "2023-12-09T11:22:30.537325",
     "exception": false,
     "start_time": "2023-12-09T11:22:30.520920",
     "status": "completed"
    },
    "tags": []
   },
   "source": [
    "## Checking for Missing values"
   ]
  },
  {
   "cell_type": "code",
   "execution_count": 6,
   "id": "1a8381ca",
   "metadata": {
    "execution": {
     "iopub.execute_input": "2023-12-09T11:22:30.572246Z",
     "iopub.status.busy": "2023-12-09T11:22:30.571804Z",
     "iopub.status.idle": "2023-12-09T11:22:30.584692Z",
     "shell.execute_reply": "2023-12-09T11:22:30.583221Z"
    },
    "papermill": {
     "duration": 0.033247,
     "end_time": "2023-12-09T11:22:30.587869",
     "exception": false,
     "start_time": "2023-12-09T11:22:30.554622",
     "status": "completed"
    },
    "tags": []
   },
   "outputs": [
    {
     "data": {
      "text/plain": [
       "Survived     0.00\n",
       "Pclass       0.00\n",
       "Sex          0.00\n",
       "Age         19.87\n",
       "SibSp        0.00\n",
       "Parch        0.00\n",
       "Fare         0.00\n",
       "Cabin       77.10\n",
       "Embarked     0.22\n",
       "dtype: float64"
      ]
     },
     "execution_count": 6,
     "metadata": {},
     "output_type": "execute_result"
    }
   ],
   "source": [
    "round((df.isnull().sum()/df.shape[0])*100,2)"
   ]
  },
  {
   "cell_type": "markdown",
   "id": "c4f776e6",
   "metadata": {
    "papermill": {
     "duration": 0.014682,
     "end_time": "2023-12-09T11:22:30.618242",
     "exception": false,
     "start_time": "2023-12-09T11:22:30.603560",
     "status": "completed"
    },
    "tags": []
   },
   "source": [
    "* \"Age\" attribute has ~20% missing values. We can impute that using mean.\n",
    "* \"Cabin\" attribute has ~80% missing values. The best thing would be to drop this.\n",
    "* \"Embarked\" attribute has ~0.2% missing values. We can impute that using mode."
   ]
  },
  {
   "cell_type": "code",
   "execution_count": 7,
   "id": "a323a43d",
   "metadata": {
    "execution": {
     "iopub.execute_input": "2023-12-09T11:22:30.653676Z",
     "iopub.status.busy": "2023-12-09T11:22:30.653235Z",
     "iopub.status.idle": "2023-12-09T11:22:30.664185Z",
     "shell.execute_reply": "2023-12-09T11:22:30.662986Z"
    },
    "papermill": {
     "duration": 0.031936,
     "end_time": "2023-12-09T11:22:30.667089",
     "exception": false,
     "start_time": "2023-12-09T11:22:30.635153",
     "status": "completed"
    },
    "tags": []
   },
   "outputs": [],
   "source": [
    "# ACTION CELL\n",
    "\n",
    "df = df.drop([\"Cabin\"], axis = 1)\n",
    "df['Embarked'] = df['Embarked'].fillna(df['Embarked'].mode())"
   ]
  },
  {
   "cell_type": "markdown",
   "id": "a2b1cfa3",
   "metadata": {
    "papermill": {
     "duration": 0.015164,
     "end_time": "2023-12-09T11:22:30.697600",
     "exception": false,
     "start_time": "2023-12-09T11:22:30.682436",
     "status": "completed"
    },
    "tags": []
   },
   "source": [
    "## Numeric Attributes"
   ]
  },
  {
   "cell_type": "code",
   "execution_count": 8,
   "id": "af924995",
   "metadata": {
    "execution": {
     "iopub.execute_input": "2023-12-09T11:22:30.731586Z",
     "iopub.status.busy": "2023-12-09T11:22:30.731141Z",
     "iopub.status.idle": "2023-12-09T11:22:31.151971Z",
     "shell.execute_reply": "2023-12-09T11:22:31.150546Z"
    },
    "papermill": {
     "duration": 0.441236,
     "end_time": "2023-12-09T11:22:31.155142",
     "exception": false,
     "start_time": "2023-12-09T11:22:30.713906",
     "status": "completed"
    },
    "tags": []
   },
   "outputs": [
    {
     "data": {
      "image/png": "[encoded data removed]",
      "text/plain": [
       "<Figure size 640x480 with 1 Axes>"
      ]
     },
     "metadata": {},
     "output_type": "display_data"
    },
    {
     "name": "stdout",
     "output_type": "stream",
     "text": [
      "Skewness =  0.38910778230082704\n"
     ]
    }
   ],
   "source": [
    "temp = df['Age']\n",
    "ax = sns.histplot(temp)\n",
    "ax.axvline(temp.mean(), color='pink', lw=2)\n",
    "ax.axvline(temp.median(), color='green', ls='--', lw=2)\n",
    "ax.axvline(temp.mode()[0], color='yellow', ls='--', lw=2)\n",
    "plt.show()\n",
    "print(\"Skewness = \", temp.skew())"
   ]
  },
  {
   "cell_type": "markdown",
   "id": "2b780bb1",
   "metadata": {
    "papermill": {
     "duration": 0.01459,
     "end_time": "2023-12-09T11:22:31.184871",
     "exception": false,
     "start_time": "2023-12-09T11:22:31.170281",
     "status": "completed"
    },
    "tags": []
   },
   "source": [
    "* The distribution resembles to a normal distribution. Mean and Median are also close to each other. \n",
    "* We can use mean to impute missing values."
   ]
  },
  {
   "cell_type": "code",
   "execution_count": 9,
   "id": "23fedb1c",
   "metadata": {
    "execution": {
     "iopub.execute_input": "2023-12-09T11:22:31.283336Z",
     "iopub.status.busy": "2023-12-09T11:22:31.282941Z",
     "iopub.status.idle": "2023-12-09T11:22:31.688652Z",
     "shell.execute_reply": "2023-12-09T11:22:31.687493Z"
    },
    "papermill": {
     "duration": 0.493413,
     "end_time": "2023-12-09T11:22:31.693081",
     "exception": false,
     "start_time": "2023-12-09T11:22:31.199668",
     "status": "completed"
    },
    "tags": []
   },
   "outputs": [
    {
     "data": {
      "image/png": "[encoded data removed]",
      "text/plain": [
       "<Figure size 640x480 with 1 Axes>"
      ]
     },
     "metadata": {},
     "output_type": "display_data"
    },
    {
     "name": "stdout",
     "output_type": "stream",
     "text": [
      "Skewness =  3.6953517271630565\n"
     ]
    }
   ],
   "source": [
    "temp = df['SibSp']\n",
    "ax = sns.histplot(temp)\n",
    "ax.axvline(temp.mean(), color='pink', lw=2)\n",
    "ax.axvline(temp.median(), color='green', ls='--', lw=2)\n",
    "ax.axvline(temp.mode()[0], color='yellow', ls='--', lw=2)\n",
    "plt.show()\n",
    "print(\"Skewness = \", temp.skew())"
   ]
  },
  {
   "cell_type": "markdown",
   "id": "5b1ff923",
   "metadata": {
    "papermill": {
     "duration": 0.015249,
     "end_time": "2023-12-09T11:22:31.724320",
     "exception": false,
     "start_time": "2023-12-09T11:22:31.709071",
     "status": "completed"
    },
    "tags": []
   },
   "source": [
    "* The distribution is highly right-skewed. Need to apply transformations.\n",
    "* Log transformation is not possible as 0 is there.\n",
    "* Next best thing is cube root transformation. We will try that."
   ]
  },
  {
   "cell_type": "code",
   "execution_count": 10,
   "id": "2e155ff6",
   "metadata": {
    "execution": {
     "iopub.execute_input": "2023-12-09T11:22:31.758056Z",
     "iopub.status.busy": "2023-12-09T11:22:31.757614Z",
     "iopub.status.idle": "2023-12-09T11:22:32.115726Z",
     "shell.execute_reply": "2023-12-09T11:22:32.114074Z"
    },
    "papermill": {
     "duration": 0.378772,
     "end_time": "2023-12-09T11:22:32.118515",
     "exception": false,
     "start_time": "2023-12-09T11:22:31.739743",
     "status": "completed"
    },
    "tags": []
   },
   "outputs": [
    {
     "data": {
      "image/png": "[encoded data removed]",
      "text/plain": [
       "<Figure size 640x480 with 1 Axes>"
      ]
     },
     "metadata": {},
     "output_type": "display_data"
    },
    {
     "name": "stdout",
     "output_type": "stream",
     "text": [
      "Skewness =  1.033059333447764\n"
     ]
    }
   ],
   "source": [
    "temp = np.cbrt(df['SibSp'])\n",
    "ax = sns.histplot(temp)\n",
    "ax.axvline(temp.mean(), color='pink', lw=2)\n",
    "ax.axvline(temp.median(), color='green', ls='--', lw=2)\n",
    "ax.axvline(temp.mode()[0], color='yellow', ls='--', lw=2)\n",
    "plt.show()\n",
    "print(\"Skewness = \", temp.skew())"
   ]
  },
  {
   "cell_type": "markdown",
   "id": "fef17383",
   "metadata": {
    "papermill": {
     "duration": 0.015484,
     "end_time": "2023-12-09T11:22:32.149885",
     "exception": false,
     "start_time": "2023-12-09T11:22:32.134401",
     "status": "completed"
    },
    "tags": []
   },
   "source": [
    "* This tranformation has reduced the skewness from 3.69 to 1.03."
   ]
  },
  {
   "cell_type": "code",
   "execution_count": 11,
   "id": "ad0378f3",
   "metadata": {
    "execution": {
     "iopub.execute_input": "2023-12-09T11:22:32.183816Z",
     "iopub.status.busy": "2023-12-09T11:22:32.183394Z",
     "iopub.status.idle": "2023-12-09T11:22:32.524902Z",
     "shell.execute_reply": "2023-12-09T11:22:32.523053Z"
    },
    "papermill": {
     "duration": 0.361988,
     "end_time": "2023-12-09T11:22:32.527696",
     "exception": false,
     "start_time": "2023-12-09T11:22:32.165708",
     "status": "completed"
    },
    "tags": []
   },
   "outputs": [
    {
     "data": {
      "image/png": "[encoded data removed]",
      "text/plain": [
       "<Figure size 640x480 with 1 Axes>"
      ]
     },
     "metadata": {},
     "output_type": "display_data"
    },
    {
     "name": "stdout",
     "output_type": "stream",
     "text": [
      "Skewness =  2.7491170471010933\n"
     ]
    }
   ],
   "source": [
    "temp = df['Parch']\n",
    "ax = sns.histplot(temp)\n",
    "ax.axvline(temp.mean(), color='pink', lw=2)\n",
    "ax.axvline(temp.median(), color='green', ls='--', lw=2)\n",
    "ax.axvline(temp.mode()[0], color='yellow', ls='--', lw=2)\n",
    "plt.show()\n",
    "print(\"Skewness = \", temp.skew())"
   ]
  },
  {
   "cell_type": "markdown",
   "id": "e6310aa9",
   "metadata": {
    "papermill": {
     "duration": 0.016097,
     "end_time": "2023-12-09T11:22:32.560261",
     "exception": false,
     "start_time": "2023-12-09T11:22:32.544164",
     "status": "completed"
    },
    "tags": []
   },
   "source": [
    "* Applying similar transformations here as well."
   ]
  },
  {
   "cell_type": "code",
   "execution_count": 12,
   "id": "c1d5cd19",
   "metadata": {
    "execution": {
     "iopub.execute_input": "2023-12-09T11:22:32.596072Z",
     "iopub.status.busy": "2023-12-09T11:22:32.595045Z",
     "iopub.status.idle": "2023-12-09T11:22:32.986720Z",
     "shell.execute_reply": "2023-12-09T11:22:32.984860Z"
    },
    "papermill": {
     "duration": 0.414458,
     "end_time": "2023-12-09T11:22:32.991104",
     "exception": false,
     "start_time": "2023-12-09T11:22:32.576646",
     "status": "completed"
    },
    "tags": []
   },
   "outputs": [
    {
     "data": {
      "image/png": "[encoded data removed]",
      "text/plain": [
       "<Figure size 640x480 with 1 Axes>"
      ]
     },
     "metadata": {},
     "output_type": "display_data"
    },
    {
     "name": "stdout",
     "output_type": "stream",
     "text": [
      "Skewness =  1.3483343755711958\n"
     ]
    }
   ],
   "source": [
    "temp = np.cbrt(df['Parch'])\n",
    "ax = sns.histplot(temp)\n",
    "ax.axvline(temp.mean(), color='pink', lw=2)\n",
    "ax.axvline(temp.median(), color='green', ls='--', lw=2)\n",
    "ax.axvline(temp.mode()[0], color='yellow', ls='--', lw=2)\n",
    "plt.show()\n",
    "print(\"Skewness = \", temp.skew())"
   ]
  },
  {
   "cell_type": "markdown",
   "id": "199d973a",
   "metadata": {
    "papermill": {
     "duration": 0.01771,
     "end_time": "2023-12-09T11:22:33.029382",
     "exception": false,
     "start_time": "2023-12-09T11:22:33.011672",
     "status": "completed"
    },
    "tags": []
   },
   "source": [
    "* Just like the prev. attribute, this tranformation has reduced the skewness from 2.79 to 1.34."
   ]
  },
  {
   "cell_type": "code",
   "execution_count": 13,
   "id": "7111a83a",
   "metadata": {
    "execution": {
     "iopub.execute_input": "2023-12-09T11:22:33.074485Z",
     "iopub.status.busy": "2023-12-09T11:22:33.073996Z",
     "iopub.status.idle": "2023-12-09T11:22:33.580790Z",
     "shell.execute_reply": "2023-12-09T11:22:33.578446Z"
    },
    "papermill": {
     "duration": 0.534456,
     "end_time": "2023-12-09T11:22:33.584523",
     "exception": false,
     "start_time": "2023-12-09T11:22:33.050067",
     "status": "completed"
    },
    "tags": []
   },
   "outputs": [
    {
     "data": {
      "image/png": "[encoded data removed]",
      "text/plain": [
       "<Figure size 640x480 with 1 Axes>"
      ]
     },
     "metadata": {},
     "output_type": "display_data"
    },
    {
     "name": "stdout",
     "output_type": "stream",
     "text": [
      "Skewness =  4.787316519674893\n"
     ]
    }
   ],
   "source": [
    "temp = df['Fare']\n",
    "ax = sns.histplot(temp)\n",
    "ax.axvline(temp.mean(), color='pink', lw=2)\n",
    "ax.axvline(temp.median(), color='green', ls='--', lw=2)\n",
    "ax.axvline(temp.mode()[0], color='yellow', ls='--', lw=2)\n",
    "plt.show()\n",
    "print(\"Skewness = \", temp.skew())"
   ]
  },
  {
   "cell_type": "markdown",
   "id": "e4b13aa2",
   "metadata": {
    "papermill": {
     "duration": 0.019417,
     "end_time": "2023-12-09T11:22:33.629649",
     "exception": false,
     "start_time": "2023-12-09T11:22:33.610232",
     "status": "completed"
    },
    "tags": []
   },
   "source": [
    "* Similar right skewed data. Since, the Fare can't be 0, we can apply log transformation here."
   ]
  },
  {
   "cell_type": "code",
   "execution_count": 14,
   "id": "7ee7492f",
   "metadata": {
    "execution": {
     "iopub.execute_input": "2023-12-09T11:22:33.673306Z",
     "iopub.status.busy": "2023-12-09T11:22:33.672486Z",
     "iopub.status.idle": "2023-12-09T11:22:33.684377Z",
     "shell.execute_reply": "2023-12-09T11:22:33.683326Z"
    },
    "papermill": {
     "duration": 0.036823,
     "end_time": "2023-12-09T11:22:33.686882",
     "exception": false,
     "start_time": "2023-12-09T11:22:33.650059",
     "status": "completed"
    },
    "tags": []
   },
   "outputs": [
    {
     "data": {
      "text/plain": [
       "15"
      ]
     },
     "execution_count": 14,
     "metadata": {},
     "output_type": "execute_result"
    }
   ],
   "source": [
    "df['Fare'].value_counts()[0]"
   ]
  },
  {
   "cell_type": "markdown",
   "id": "365e2352",
   "metadata": {
    "papermill": {
     "duration": 0.017526,
     "end_time": "2023-12-09T11:22:33.722220",
     "exception": false,
     "start_time": "2023-12-09T11:22:33.704694",
     "status": "completed"
    },
    "tags": []
   },
   "source": [
    "* Uh Oh.. Fare is 0 for 15 records. Lucky people travelling for free..!!\n",
    "* We will again try cube root transformation and try to reduce the skewness."
   ]
  },
  {
   "cell_type": "code",
   "execution_count": 15,
   "id": "0f669f35",
   "metadata": {
    "execution": {
     "iopub.execute_input": "2023-12-09T11:22:33.761138Z",
     "iopub.status.busy": "2023-12-09T11:22:33.760376Z",
     "iopub.status.idle": "2023-12-09T11:22:34.191918Z",
     "shell.execute_reply": "2023-12-09T11:22:34.190722Z"
    },
    "papermill": {
     "duration": 0.457257,
     "end_time": "2023-12-09T11:22:34.197233",
     "exception": false,
     "start_time": "2023-12-09T11:22:33.739976",
     "status": "completed"
    },
    "tags": []
   },
   "outputs": [
    {
     "data": {
      "image/png": "[encoded data removed]",
      "text/plain": [
       "<Figure size 640x480 with 1 Axes>"
      ]
     },
     "metadata": {},
     "output_type": "display_data"
    },
    {
     "name": "stdout",
     "output_type": "stream",
     "text": [
      "Skewness =  1.2303822111719223\n"
     ]
    }
   ],
   "source": [
    "temp = np.cbrt(df['Fare'])\n",
    "ax = sns.histplot(temp)\n",
    "ax.axvline(temp.mean(), color='pink', lw=2)\n",
    "ax.axvline(temp.median(), color='green', ls='--', lw=2)\n",
    "ax.axvline(temp.mode()[0], color='yellow', ls='--', lw=2)\n",
    "plt.show()\n",
    "print(\"Skewness = \", temp.skew())"
   ]
  },
  {
   "cell_type": "markdown",
   "id": "51f56930",
   "metadata": {
    "papermill": {
     "duration": 0.019883,
     "end_time": "2023-12-09T11:22:34.237603",
     "exception": false,
     "start_time": "2023-12-09T11:22:34.217720",
     "status": "completed"
    },
    "tags": []
   },
   "source": [
    "* This tranformation has reduced the skewness from 4.78 to 1.23."
   ]
  },
  {
   "cell_type": "code",
   "execution_count": 16,
   "id": "6b3a2f1c",
   "metadata": {
    "execution": {
     "iopub.execute_input": "2023-12-09T11:22:34.280561Z",
     "iopub.status.busy": "2023-12-09T11:22:34.280128Z",
     "iopub.status.idle": "2023-12-09T11:22:34.290238Z",
     "shell.execute_reply": "2023-12-09T11:22:34.289004Z"
    },
    "papermill": {
     "duration": 0.035222,
     "end_time": "2023-12-09T11:22:34.293049",
     "exception": false,
     "start_time": "2023-12-09T11:22:34.257827",
     "status": "completed"
    },
    "tags": []
   },
   "outputs": [],
   "source": [
    "# ACTION CELL\n",
    "\n",
    "df['Age'] = df['Age'].fillna(df['Age'].mean())\n",
    "\n",
    "df['SibSp'] = np.cbrt(df['SibSp'])\n",
    "df['Parch'] = np.cbrt(df['Parch'])\n",
    "df['Fare'] = np.cbrt(df['Fare'])"
   ]
  },
  {
   "cell_type": "code",
   "execution_count": 17,
   "id": "cd0ac2cc",
   "metadata": {
    "execution": {
     "iopub.execute_input": "2023-12-09T11:22:34.335053Z",
     "iopub.status.busy": "2023-12-09T11:22:34.334607Z",
     "iopub.status.idle": "2023-12-09T11:22:34.343756Z",
     "shell.execute_reply": "2023-12-09T11:22:34.342296Z"
    },
    "papermill": {
     "duration": 0.032493,
     "end_time": "2023-12-09T11:22:34.346507",
     "exception": false,
     "start_time": "2023-12-09T11:22:34.314014",
     "status": "completed"
    },
    "tags": []
   },
   "outputs": [],
   "source": [
    "# ACTION CELL\n",
    "\n",
    "df['Age'] = normalize(np.array(df['Age']).reshape(1,-1))[0]\n",
    "df['SibSp'] = normalize(np.array(df['SibSp']).reshape(1,-1))[0]\n",
    "df['Parch'] = normalize(np.array(df['Parch']).reshape(1,-1))[0]\n",
    "df['Fare'] = normalize(np.array(df['Fare']).reshape(1,-1))[0]"
   ]
  },
  {
   "cell_type": "markdown",
   "id": "287823bc",
   "metadata": {
    "papermill": {
     "duration": 0.019462,
     "end_time": "2023-12-09T11:22:34.385599",
     "exception": false,
     "start_time": "2023-12-09T11:22:34.366137",
     "status": "completed"
    },
    "tags": []
   },
   "source": [
    "## Categorical Attributes"
   ]
  },
  {
   "cell_type": "code",
   "execution_count": 18,
   "id": "666a70bf",
   "metadata": {
    "execution": {
     "iopub.execute_input": "2023-12-09T11:22:34.426007Z",
     "iopub.status.busy": "2023-12-09T11:22:34.424881Z",
     "iopub.status.idle": "2023-12-09T11:22:34.656928Z",
     "shell.execute_reply": "2023-12-09T11:22:34.655686Z"
    },
    "papermill": {
     "duration": 0.255077,
     "end_time": "2023-12-09T11:22:34.659714",
     "exception": false,
     "start_time": "2023-12-09T11:22:34.404637",
     "status": "completed"
    },
    "tags": []
   },
   "outputs": [
    {
     "data": {
      "image/png": "[encoded data removed]",
      "text/plain": [
       "<Figure size 640x480 with 1 Axes>"
      ]
     },
     "metadata": {},
     "output_type": "display_data"
    }
   ],
   "source": [
    "temp = df['Survived'].astype(str)\n",
    "sns.histplot(temp)\n",
    "plt.show()"
   ]
  },
  {
   "cell_type": "markdown",
   "id": "62eb1915",
   "metadata": {
    "papermill": {
     "duration": 0.021819,
     "end_time": "2023-12-09T11:22:34.701518",
     "exception": false,
     "start_time": "2023-12-09T11:22:34.679699",
     "status": "completed"
    },
    "tags": []
   },
   "source": [
    "* The target variable 'Survived' is somewhat imabalanced, but we can use it as it is for now.\n",
    "* Later, we can maybe apply oversampling techniques to get rid of that slight imbalance."
   ]
  },
  {
   "cell_type": "code",
   "execution_count": 19,
   "id": "fb716ee3",
   "metadata": {
    "execution": {
     "iopub.execute_input": "2023-12-09T11:22:34.745623Z",
     "iopub.status.busy": "2023-12-09T11:22:34.745180Z",
     "iopub.status.idle": "2023-12-09T11:22:34.754866Z",
     "shell.execute_reply": "2023-12-09T11:22:34.753876Z"
    },
    "papermill": {
     "duration": 0.034596,
     "end_time": "2023-12-09T11:22:34.757691",
     "exception": false,
     "start_time": "2023-12-09T11:22:34.723095",
     "status": "completed"
    },
    "tags": []
   },
   "outputs": [],
   "source": [
    "# ACTION CELL\n",
    "\n",
    "df['Survived'] = df['Survived'].astype(str)\n",
    "\n",
    "# Taking the Pclass attribute as a categorical variable.\n",
    "df['Pclass'] = df['Pclass'].astype(str)"
   ]
  },
  {
   "cell_type": "code",
   "execution_count": 20,
   "id": "43bcab93",
   "metadata": {
    "execution": {
     "iopub.execute_input": "2023-12-09T11:22:34.803989Z",
     "iopub.status.busy": "2023-12-09T11:22:34.803162Z",
     "iopub.status.idle": "2023-12-09T11:22:34.814568Z",
     "shell.execute_reply": "2023-12-09T11:22:34.813293Z"
    },
    "papermill": {
     "duration": 0.037635,
     "end_time": "2023-12-09T11:22:34.817742",
     "exception": false,
     "start_time": "2023-12-09T11:22:34.780107",
     "status": "completed"
    },
    "tags": []
   },
   "outputs": [],
   "source": [
    "# ACTION CELL\n",
    "\n",
    "X = df.drop(['Survived'], axis = 1)\n",
    "y = df['Survived']\n",
    "\n",
    "# Performing OHE for categorical variables\n",
    "X = pd.get_dummies(X, dtype=float)"
   ]
  },
  {
   "cell_type": "code",
   "execution_count": 21,
   "id": "0774127a",
   "metadata": {
    "execution": {
     "iopub.execute_input": "2023-12-09T11:22:34.862598Z",
     "iopub.status.busy": "2023-12-09T11:22:34.861708Z",
     "iopub.status.idle": "2023-12-09T11:22:34.893374Z",
     "shell.execute_reply": "2023-12-09T11:22:34.891698Z"
    },
    "papermill": {
     "duration": 0.057801,
     "end_time": "2023-12-09T11:22:34.896461",
     "exception": false,
     "start_time": "2023-12-09T11:22:34.838660",
     "status": "completed"
    },
    "tags": []
   },
   "outputs": [
    {
     "data": {
      "text/html": [
       "<div>\n",
       "<style scoped>\n",
       "    .dataframe tbody tr th:only-of-type {\n",
       "        vertical-align: middle;\n",
       "    }\n",
       "\n",
       "    .dataframe tbody tr th {\n",
       "        vertical-align: top;\n",
       "    }\n",
       "\n",
       "    .dataframe thead th {\n",
       "        text-align: right;\n",
       "    }\n",
       "</style>\n",
       "<table border=\"1\" class=\"dataframe\">\n",
       "  <thead>\n",
       "    <tr style=\"text-align: right;\">\n",
       "      <th></th>\n",
       "      <th>Age</th>\n",
       "      <th>SibSp</th>\n",
       "      <th>Parch</th>\n",
       "      <th>Fare</th>\n",
       "      <th>Pclass_1</th>\n",
       "      <th>Pclass_2</th>\n",
       "      <th>Pclass_3</th>\n",
       "      <th>Sex_female</th>\n",
       "      <th>Sex_male</th>\n",
       "      <th>Embarked_C</th>\n",
       "      <th>Embarked_Q</th>\n",
       "      <th>Embarked_S</th>\n",
       "    </tr>\n",
       "  </thead>\n",
       "  <tbody>\n",
       "    <tr>\n",
       "      <th>0</th>\n",
       "      <td>0.022735</td>\n",
       "      <td>0.05166</td>\n",
       "      <td>0.000000</td>\n",
       "      <td>0.021859</td>\n",
       "      <td>0.0</td>\n",
       "      <td>0.0</td>\n",
       "      <td>1.0</td>\n",
       "      <td>0.0</td>\n",
       "      <td>1.0</td>\n",
       "      <td>0.0</td>\n",
       "      <td>0.0</td>\n",
       "      <td>1.0</td>\n",
       "    </tr>\n",
       "    <tr>\n",
       "      <th>1</th>\n",
       "      <td>0.039270</td>\n",
       "      <td>0.05166</td>\n",
       "      <td>0.000000</td>\n",
       "      <td>0.046829</td>\n",
       "      <td>1.0</td>\n",
       "      <td>0.0</td>\n",
       "      <td>0.0</td>\n",
       "      <td>1.0</td>\n",
       "      <td>0.0</td>\n",
       "      <td>1.0</td>\n",
       "      <td>0.0</td>\n",
       "      <td>0.0</td>\n",
       "    </tr>\n",
       "    <tr>\n",
       "      <th>2</th>\n",
       "      <td>0.026869</td>\n",
       "      <td>0.00000</td>\n",
       "      <td>0.000000</td>\n",
       "      <td>0.022517</td>\n",
       "      <td>0.0</td>\n",
       "      <td>0.0</td>\n",
       "      <td>1.0</td>\n",
       "      <td>1.0</td>\n",
       "      <td>0.0</td>\n",
       "      <td>0.0</td>\n",
       "      <td>0.0</td>\n",
       "      <td>1.0</td>\n",
       "    </tr>\n",
       "    <tr>\n",
       "      <th>3</th>\n",
       "      <td>0.036170</td>\n",
       "      <td>0.05166</td>\n",
       "      <td>0.000000</td>\n",
       "      <td>0.042450</td>\n",
       "      <td>1.0</td>\n",
       "      <td>0.0</td>\n",
       "      <td>0.0</td>\n",
       "      <td>1.0</td>\n",
       "      <td>0.0</td>\n",
       "      <td>0.0</td>\n",
       "      <td>0.0</td>\n",
       "      <td>1.0</td>\n",
       "    </tr>\n",
       "    <tr>\n",
       "      <th>4</th>\n",
       "      <td>0.036170</td>\n",
       "      <td>0.00000</td>\n",
       "      <td>0.000000</td>\n",
       "      <td>0.022635</td>\n",
       "      <td>0.0</td>\n",
       "      <td>0.0</td>\n",
       "      <td>1.0</td>\n",
       "      <td>0.0</td>\n",
       "      <td>1.0</td>\n",
       "      <td>0.0</td>\n",
       "      <td>0.0</td>\n",
       "      <td>1.0</td>\n",
       "    </tr>\n",
       "    <tr>\n",
       "      <th>...</th>\n",
       "      <td>...</td>\n",
       "      <td>...</td>\n",
       "      <td>...</td>\n",
       "      <td>...</td>\n",
       "      <td>...</td>\n",
       "      <td>...</td>\n",
       "      <td>...</td>\n",
       "      <td>...</td>\n",
       "      <td>...</td>\n",
       "      <td>...</td>\n",
       "      <td>...</td>\n",
       "      <td>...</td>\n",
       "    </tr>\n",
       "    <tr>\n",
       "      <th>886</th>\n",
       "      <td>0.027903</td>\n",
       "      <td>0.00000</td>\n",
       "      <td>0.000000</td>\n",
       "      <td>0.026556</td>\n",
       "      <td>0.0</td>\n",
       "      <td>1.0</td>\n",
       "      <td>0.0</td>\n",
       "      <td>0.0</td>\n",
       "      <td>1.0</td>\n",
       "      <td>0.0</td>\n",
       "      <td>0.0</td>\n",
       "      <td>1.0</td>\n",
       "    </tr>\n",
       "    <tr>\n",
       "      <th>887</th>\n",
       "      <td>0.019635</td>\n",
       "      <td>0.00000</td>\n",
       "      <td>0.000000</td>\n",
       "      <td>0.035093</td>\n",
       "      <td>1.0</td>\n",
       "      <td>0.0</td>\n",
       "      <td>0.0</td>\n",
       "      <td>1.0</td>\n",
       "      <td>0.0</td>\n",
       "      <td>0.0</td>\n",
       "      <td>0.0</td>\n",
       "      <td>1.0</td>\n",
       "    </tr>\n",
       "    <tr>\n",
       "      <th>888</th>\n",
       "      <td>0.030692</td>\n",
       "      <td>0.05166</td>\n",
       "      <td>0.074842</td>\n",
       "      <td>0.032327</td>\n",
       "      <td>0.0</td>\n",
       "      <td>0.0</td>\n",
       "      <td>1.0</td>\n",
       "      <td>1.0</td>\n",
       "      <td>0.0</td>\n",
       "      <td>0.0</td>\n",
       "      <td>0.0</td>\n",
       "      <td>1.0</td>\n",
       "    </tr>\n",
       "    <tr>\n",
       "      <th>889</th>\n",
       "      <td>0.026869</td>\n",
       "      <td>0.00000</td>\n",
       "      <td>0.000000</td>\n",
       "      <td>0.035093</td>\n",
       "      <td>1.0</td>\n",
       "      <td>0.0</td>\n",
       "      <td>0.0</td>\n",
       "      <td>0.0</td>\n",
       "      <td>1.0</td>\n",
       "      <td>1.0</td>\n",
       "      <td>0.0</td>\n",
       "      <td>0.0</td>\n",
       "    </tr>\n",
       "    <tr>\n",
       "      <th>890</th>\n",
       "      <td>0.033070</td>\n",
       "      <td>0.00000</td>\n",
       "      <td>0.000000</td>\n",
       "      <td>0.022350</td>\n",
       "      <td>0.0</td>\n",
       "      <td>0.0</td>\n",
       "      <td>1.0</td>\n",
       "      <td>0.0</td>\n",
       "      <td>1.0</td>\n",
       "      <td>0.0</td>\n",
       "      <td>1.0</td>\n",
       "      <td>0.0</td>\n",
       "    </tr>\n",
       "  </tbody>\n",
       "</table>\n",
       "<p>891 rows × 12 columns</p>\n",
       "</div>"
      ],
      "text/plain": [
       "          Age    SibSp     Parch      Fare  Pclass_1  Pclass_2  Pclass_3  \\\n",
       "0    0.022735  0.05166  0.000000  0.021859       0.0       0.0       1.0   \n",
       "1    0.039270  0.05166  0.000000  0.046829       1.0       0.0       0.0   \n",
       "2    0.026869  0.00000  0.000000  0.022517       0.0       0.0       1.0   \n",
       "3    0.036170  0.05166  0.000000  0.042450       1.0       0.0       0.0   \n",
       "4    0.036170  0.00000  0.000000  0.022635       0.0       0.0       1.0   \n",
       "..        ...      ...       ...       ...       ...       ...       ...   \n",
       "886  0.027903  0.00000  0.000000  0.026556       0.0       1.0       0.0   \n",
       "887  0.019635  0.00000  0.000000  0.035093       1.0       0.0       0.0   \n",
       "888  0.030692  0.05166  0.074842  0.032327       0.0       0.0       1.0   \n",
       "889  0.026869  0.00000  0.000000  0.035093       1.0       0.0       0.0   \n",
       "890  0.033070  0.00000  0.000000  0.022350       0.0       0.0       1.0   \n",
       "\n",
       "     Sex_female  Sex_male  Embarked_C  Embarked_Q  Embarked_S  \n",
       "0           0.0       1.0         0.0         0.0         1.0  \n",
       "1           1.0       0.0         1.0         0.0         0.0  \n",
       "2           1.0       0.0         0.0         0.0         1.0  \n",
       "3           1.0       0.0         0.0         0.0         1.0  \n",
       "4           0.0       1.0         0.0         0.0         1.0  \n",
       "..          ...       ...         ...         ...         ...  \n",
       "886         0.0       1.0         0.0         0.0         1.0  \n",
       "887         1.0       0.0         0.0         0.0         1.0  \n",
       "888         1.0       0.0         0.0         0.0         1.0  \n",
       "889         0.0       1.0         1.0         0.0         0.0  \n",
       "890         0.0       1.0         0.0         1.0         0.0  \n",
       "\n",
       "[891 rows x 12 columns]"
      ]
     },
     "execution_count": 21,
     "metadata": {},
     "output_type": "execute_result"
    }
   ],
   "source": [
    "X"
   ]
  },
  {
   "cell_type": "markdown",
   "id": "e275758f",
   "metadata": {
    "papermill": {
     "duration": 0.019534,
     "end_time": "2023-12-09T11:22:34.937989",
     "exception": false,
     "start_time": "2023-12-09T11:22:34.918455",
     "status": "completed"
    },
    "tags": []
   },
   "source": [
    "## Model Development"
   ]
  },
  {
   "cell_type": "code",
   "execution_count": 22,
   "id": "4b92c539",
   "metadata": {
    "execution": {
     "iopub.execute_input": "2023-12-09T11:22:34.984608Z",
     "iopub.status.busy": "2023-12-09T11:22:34.984118Z",
     "iopub.status.idle": "2023-12-09T11:22:35.126348Z",
     "shell.execute_reply": "2023-12-09T11:22:35.125185Z"
    },
    "papermill": {
     "duration": 0.168556,
     "end_time": "2023-12-09T11:22:35.129439",
     "exception": false,
     "start_time": "2023-12-09T11:22:34.960883",
     "status": "completed"
    },
    "tags": []
   },
   "outputs": [],
   "source": [
    "from sklearn.model_selection import train_test_split\n",
    "\n",
    "X_train, X_test, y_train, y_test = train_test_split(X, y, test_size=0.33, random_state=42)"
   ]
  },
  {
   "cell_type": "code",
   "execution_count": 23,
   "id": "f1df2ca9",
   "metadata": {
    "execution": {
     "iopub.execute_input": "2023-12-09T11:22:35.174399Z",
     "iopub.status.busy": "2023-12-09T11:22:35.173970Z",
     "iopub.status.idle": "2023-12-09T11:22:35.337611Z",
     "shell.execute_reply": "2023-12-09T11:22:35.335826Z"
    },
    "papermill": {
     "duration": 0.191436,
     "end_time": "2023-12-09T11:22:35.342531",
     "exception": false,
     "start_time": "2023-12-09T11:22:35.151095",
     "status": "completed"
    },
    "tags": []
   },
   "outputs": [
    {
     "name": "stdout",
     "output_type": "stream",
     "text": [
      "Training Accuracy =  0.7802013422818792\n",
      "Test Accuracy =  0.7728813559322034\n"
     ]
    }
   ],
   "source": [
    "from sklearn.linear_model import LogisticRegression\n",
    "\n",
    "model = LogisticRegression(random_state=42)\n",
    "model.fit(X_train, y_train)\n",
    "\n",
    "train_acc = model.score(X_train, y_train)\n",
    "test_acc = model.score(X_test, y_test)\n",
    "\n",
    "print(\"Training Accuracy = \", train_acc)\n",
    "print(\"Test Accuracy = \", test_acc)"
   ]
  },
  {
   "cell_type": "code",
   "execution_count": 24,
   "id": "4b5cfec9",
   "metadata": {
    "execution": {
     "iopub.execute_input": "2023-12-09T11:22:35.391615Z",
     "iopub.status.busy": "2023-12-09T11:22:35.391113Z",
     "iopub.status.idle": "2023-12-09T11:22:35.440756Z",
     "shell.execute_reply": "2023-12-09T11:22:35.439491Z"
    },
    "papermill": {
     "duration": 0.076398,
     "end_time": "2023-12-09T11:22:35.443339",
     "exception": false,
     "start_time": "2023-12-09T11:22:35.366941",
     "status": "completed"
    },
    "tags": []
   },
   "outputs": [
    {
     "name": "stdout",
     "output_type": "stream",
     "text": [
      "Training Accuracy =  0.8171140939597316\n",
      "Test Accuracy =  0.8\n"
     ]
    }
   ],
   "source": [
    "from sklearn.svm import SVC\n",
    "\n",
    "model = SVC(random_state=42)\n",
    "model.fit(X_train, y_train)\n",
    "\n",
    "train_acc = model.score(X_train, y_train)\n",
    "test_acc = model.score(X_test, y_test)\n",
    "\n",
    "print(\"Training Accuracy = \", train_acc)\n",
    "print(\"Test Accuracy = \", test_acc)"
   ]
  },
  {
   "cell_type": "code",
   "execution_count": 25,
   "id": "c47f17b8",
   "metadata": {
    "execution": {
     "iopub.execute_input": "2023-12-09T11:22:35.487949Z",
     "iopub.status.busy": "2023-12-09T11:22:35.486551Z",
     "iopub.status.idle": "2023-12-09T11:22:35.757035Z",
     "shell.execute_reply": "2023-12-09T11:22:35.755008Z"
    },
    "papermill": {
     "duration": 0.295375,
     "end_time": "2023-12-09T11:22:35.760024",
     "exception": false,
     "start_time": "2023-12-09T11:22:35.464649",
     "status": "completed"
    },
    "tags": []
   },
   "outputs": [
    {
     "name": "stdout",
     "output_type": "stream",
     "text": [
      "Training Accuracy =  0.8557046979865772\n",
      "Test Accuracy =  0.8203389830508474\n"
     ]
    }
   ],
   "source": [
    "from sklearn.ensemble import RandomForestClassifier\n",
    "\n",
    "model = RandomForestClassifier(n_estimators=20, max_depth=5, random_state=1)\n",
    "model.fit(X_train, y_train)\n",
    "\n",
    "train_acc = model.score(X_train, y_train)\n",
    "test_acc = model.score(X_test, y_test)\n",
    "\n",
    "print(\"Training Accuracy = \", train_acc)\n",
    "print(\"Test Accuracy = \", test_acc)"
   ]
  },
  {
   "cell_type": "markdown",
   "id": "bc2efbb9",
   "metadata": {
    "papermill": {
     "duration": 0.019476,
     "end_time": "2023-12-09T11:22:35.799440",
     "exception": false,
     "start_time": "2023-12-09T11:22:35.779964",
     "status": "completed"
    },
    "tags": []
   },
   "source": [
    "## Test Data"
   ]
  },
  {
   "cell_type": "code",
   "execution_count": 26,
   "id": "0e9cc0a4",
   "metadata": {
    "execution": {
     "iopub.execute_input": "2023-12-09T11:22:35.840587Z",
     "iopub.status.busy": "2023-12-09T11:22:35.840180Z",
     "iopub.status.idle": "2023-12-09T11:22:35.880651Z",
     "shell.execute_reply": "2023-12-09T11:22:35.879408Z"
    },
    "papermill": {
     "duration": 0.064069,
     "end_time": "2023-12-09T11:22:35.883346",
     "exception": false,
     "start_time": "2023-12-09T11:22:35.819277",
     "status": "completed"
    },
    "tags": []
   },
   "outputs": [
    {
     "data": {
      "text/html": [
       "<div>\n",
       "<style scoped>\n",
       "    .dataframe tbody tr th:only-of-type {\n",
       "        vertical-align: middle;\n",
       "    }\n",
       "\n",
       "    .dataframe tbody tr th {\n",
       "        vertical-align: top;\n",
       "    }\n",
       "\n",
       "    .dataframe thead th {\n",
       "        text-align: right;\n",
       "    }\n",
       "</style>\n",
       "<table border=\"1\" class=\"dataframe\">\n",
       "  <thead>\n",
       "    <tr style=\"text-align: right;\">\n",
       "      <th></th>\n",
       "      <th>PassengerId</th>\n",
       "      <th>Pclass</th>\n",
       "      <th>Name</th>\n",
       "      <th>Sex</th>\n",
       "      <th>Age</th>\n",
       "      <th>SibSp</th>\n",
       "      <th>Parch</th>\n",
       "      <th>Ticket</th>\n",
       "      <th>Fare</th>\n",
       "      <th>Cabin</th>\n",
       "      <th>Embarked</th>\n",
       "    </tr>\n",
       "  </thead>\n",
       "  <tbody>\n",
       "    <tr>\n",
       "      <th>0</th>\n",
       "      <td>892</td>\n",
       "      <td>3</td>\n",
       "      <td>Kelly, Mr. James</td>\n",
       "      <td>male</td>\n",
       "      <td>34.5</td>\n",
       "      <td>0</td>\n",
       "      <td>0</td>\n",
       "      <td>330911</td>\n",
       "      <td>7.8292</td>\n",
       "      <td>NaN</td>\n",
       "      <td>Q</td>\n",
       "    </tr>\n",
       "    <tr>\n",
       "      <th>1</th>\n",
       "      <td>893</td>\n",
       "      <td>3</td>\n",
       "      <td>Wilkes, Mrs. James (Ellen Needs)</td>\n",
       "      <td>female</td>\n",
       "      <td>47.0</td>\n",
       "      <td>1</td>\n",
       "      <td>0</td>\n",
       "      <td>363272</td>\n",
       "      <td>7.0000</td>\n",
       "      <td>NaN</td>\n",
       "      <td>S</td>\n",
       "    </tr>\n",
       "    <tr>\n",
       "      <th>2</th>\n",
       "      <td>894</td>\n",
       "      <td>2</td>\n",
       "      <td>Myles, Mr. Thomas Francis</td>\n",
       "      <td>male</td>\n",
       "      <td>62.0</td>\n",
       "      <td>0</td>\n",
       "      <td>0</td>\n",
       "      <td>240276</td>\n",
       "      <td>9.6875</td>\n",
       "      <td>NaN</td>\n",
       "      <td>Q</td>\n",
       "    </tr>\n",
       "    <tr>\n",
       "      <th>3</th>\n",
       "      <td>895</td>\n",
       "      <td>3</td>\n",
       "      <td>Wirz, Mr. Albert</td>\n",
       "      <td>male</td>\n",
       "      <td>27.0</td>\n",
       "      <td>0</td>\n",
       "      <td>0</td>\n",
       "      <td>315154</td>\n",
       "      <td>8.6625</td>\n",
       "      <td>NaN</td>\n",
       "      <td>S</td>\n",
       "    </tr>\n",
       "    <tr>\n",
       "      <th>4</th>\n",
       "      <td>896</td>\n",
       "      <td>3</td>\n",
       "      <td>Hirvonen, Mrs. Alexander (Helga E Lindqvist)</td>\n",
       "      <td>female</td>\n",
       "      <td>22.0</td>\n",
       "      <td>1</td>\n",
       "      <td>1</td>\n",
       "      <td>3101298</td>\n",
       "      <td>12.2875</td>\n",
       "      <td>NaN</td>\n",
       "      <td>S</td>\n",
       "    </tr>\n",
       "    <tr>\n",
       "      <th>...</th>\n",
       "      <td>...</td>\n",
       "      <td>...</td>\n",
       "      <td>...</td>\n",
       "      <td>...</td>\n",
       "      <td>...</td>\n",
       "      <td>...</td>\n",
       "      <td>...</td>\n",
       "      <td>...</td>\n",
       "      <td>...</td>\n",
       "      <td>...</td>\n",
       "      <td>...</td>\n",
       "    </tr>\n",
       "    <tr>\n",
       "      <th>413</th>\n",
       "      <td>1305</td>\n",
       "      <td>3</td>\n",
       "      <td>Spector, Mr. Woolf</td>\n",
       "      <td>male</td>\n",
       "      <td>NaN</td>\n",
       "      <td>0</td>\n",
       "      <td>0</td>\n",
       "      <td>A.5. 3236</td>\n",
       "      <td>8.0500</td>\n",
       "      <td>NaN</td>\n",
       "      <td>S</td>\n",
       "    </tr>\n",
       "    <tr>\n",
       "      <th>414</th>\n",
       "      <td>1306</td>\n",
       "      <td>1</td>\n",
       "      <td>Oliva y Ocana, Dona. Fermina</td>\n",
       "      <td>female</td>\n",
       "      <td>39.0</td>\n",
       "      <td>0</td>\n",
       "      <td>0</td>\n",
       "      <td>PC 17758</td>\n",
       "      <td>108.9000</td>\n",
       "      <td>C105</td>\n",
       "      <td>C</td>\n",
       "    </tr>\n",
       "    <tr>\n",
       "      <th>415</th>\n",
       "      <td>1307</td>\n",
       "      <td>3</td>\n",
       "      <td>Saether, Mr. Simon Sivertsen</td>\n",
       "      <td>male</td>\n",
       "      <td>38.5</td>\n",
       "      <td>0</td>\n",
       "      <td>0</td>\n",
       "      <td>SOTON/O.Q. 3101262</td>\n",
       "      <td>7.2500</td>\n",
       "      <td>NaN</td>\n",
       "      <td>S</td>\n",
       "    </tr>\n",
       "    <tr>\n",
       "      <th>416</th>\n",
       "      <td>1308</td>\n",
       "      <td>3</td>\n",
       "      <td>Ware, Mr. Frederick</td>\n",
       "      <td>male</td>\n",
       "      <td>NaN</td>\n",
       "      <td>0</td>\n",
       "      <td>0</td>\n",
       "      <td>359309</td>\n",
       "      <td>8.0500</td>\n",
       "      <td>NaN</td>\n",
       "      <td>S</td>\n",
       "    </tr>\n",
       "    <tr>\n",
       "      <th>417</th>\n",
       "      <td>1309</td>\n",
       "      <td>3</td>\n",
       "      <td>Peter, Master. Michael J</td>\n",
       "      <td>male</td>\n",
       "      <td>NaN</td>\n",
       "      <td>1</td>\n",
       "      <td>1</td>\n",
       "      <td>2668</td>\n",
       "      <td>22.3583</td>\n",
       "      <td>NaN</td>\n",
       "      <td>C</td>\n",
       "    </tr>\n",
       "  </tbody>\n",
       "</table>\n",
       "<p>418 rows × 11 columns</p>\n",
       "</div>"
      ],
      "text/plain": [
       "     PassengerId  Pclass                                          Name  \\\n",
       "0            892       3                              Kelly, Mr. James   \n",
       "1            893       3              Wilkes, Mrs. James (Ellen Needs)   \n",
       "2            894       2                     Myles, Mr. Thomas Francis   \n",
       "3            895       3                              Wirz, Mr. Albert   \n",
       "4            896       3  Hirvonen, Mrs. Alexander (Helga E Lindqvist)   \n",
       "..           ...     ...                                           ...   \n",
       "413         1305       3                            Spector, Mr. Woolf   \n",
       "414         1306       1                  Oliva y Ocana, Dona. Fermina   \n",
       "415         1307       3                  Saether, Mr. Simon Sivertsen   \n",
       "416         1308       3                           Ware, Mr. Frederick   \n",
       "417         1309       3                      Peter, Master. Michael J   \n",
       "\n",
       "        Sex   Age  SibSp  Parch              Ticket      Fare Cabin Embarked  \n",
       "0      male  34.5      0      0              330911    7.8292   NaN        Q  \n",
       "1    female  47.0      1      0              363272    7.0000   NaN        S  \n",
       "2      male  62.0      0      0              240276    9.6875   NaN        Q  \n",
       "3      male  27.0      0      0              315154    8.6625   NaN        S  \n",
       "4    female  22.0      1      1             3101298   12.2875   NaN        S  \n",
       "..      ...   ...    ...    ...                 ...       ...   ...      ...  \n",
       "413    male   NaN      0      0           A.5. 3236    8.0500   NaN        S  \n",
       "414  female  39.0      0      0            PC 17758  108.9000  C105        C  \n",
       "415    male  38.5      0      0  SOTON/O.Q. 3101262    7.2500   NaN        S  \n",
       "416    male   NaN      0      0              359309    8.0500   NaN        S  \n",
       "417    male   NaN      1      1                2668   22.3583   NaN        C  \n",
       "\n",
       "[418 rows x 11 columns]"
      ]
     },
     "execution_count": 26,
     "metadata": {},
     "output_type": "execute_result"
    }
   ],
   "source": [
    "df_test_raw = pd.read_csv('test.csv')\n",
    "df_test_raw"
   ]
  },
  {
   "cell_type": "code",
   "execution_count": 27,
   "id": "dde48483",
   "metadata": {
    "execution": {
     "iopub.execute_input": "2023-12-09T11:22:35.926079Z",
     "iopub.status.busy": "2023-12-09T11:22:35.925593Z",
     "iopub.status.idle": "2023-12-09T11:22:35.936529Z",
     "shell.execute_reply": "2023-12-09T11:22:35.934866Z"
    },
    "papermill": {
     "duration": 0.036234,
     "end_time": "2023-12-09T11:22:35.939790",
     "exception": false,
     "start_time": "2023-12-09T11:22:35.903556",
     "status": "completed"
    },
    "tags": []
   },
   "outputs": [
    {
     "data": {
      "text/plain": [
       "PassengerId      0\n",
       "Pclass           0\n",
       "Name             0\n",
       "Sex              0\n",
       "Age             86\n",
       "SibSp            0\n",
       "Parch            0\n",
       "Ticket           0\n",
       "Fare             1\n",
       "Cabin          327\n",
       "Embarked         0\n",
       "dtype: int64"
      ]
     },
     "execution_count": 27,
     "metadata": {},
     "output_type": "execute_result"
    }
   ],
   "source": [
    "df_test_raw.isnull().sum()"
   ]
  },
  {
   "cell_type": "code",
   "execution_count": 28,
   "id": "66872aea",
   "metadata": {
    "execution": {
     "iopub.execute_input": "2023-12-09T11:22:35.983302Z",
     "iopub.status.busy": "2023-12-09T11:22:35.982571Z",
     "iopub.status.idle": "2023-12-09T11:22:36.009803Z",
     "shell.execute_reply": "2023-12-09T11:22:36.008296Z"
    },
    "papermill": {
     "duration": 0.053192,
     "end_time": "2023-12-09T11:22:36.012866",
     "exception": false,
     "start_time": "2023-12-09T11:22:35.959674",
     "status": "completed"
    },
    "tags": []
   },
   "outputs": [],
   "source": [
    "df_test = df_test_raw.drop([\"PassengerId\", \"Name\", \"Ticket\"], axis = 1)\n",
    "\n",
    "df_test = df_test.drop([\"Cabin\"], axis = 1)\n",
    "df_test['Fare'] = df_test['Fare'].fillna(df_test['Fare'].mean())\n",
    "\n",
    "df_test['Age'] = df_test['Age'].fillna(df_test['Age'].mean())\n",
    "\n",
    "df_test['SibSp'] = np.cbrt(df_test['SibSp'])\n",
    "df_test['Parch'] = np.cbrt(df_test['Parch'])\n",
    "df_test['Fare'] = np.cbrt(df_test['Fare'])\n",
    "\n",
    "df_test['Age'] = normalize(np.array(df_test['Age']).reshape(1,-1))[0]\n",
    "df_test['SibSp'] = normalize(np.array(df_test['SibSp']).reshape(1,-1))[0]\n",
    "df_test['Parch'] = normalize(np.array(df_test['Parch']).reshape(1,-1))[0]\n",
    "df_test['Fare'] = normalize(np.array(df_test['Fare']).reshape(1,-1))[0]\n",
    "\n",
    "# Taking the Pclass attribute as a categorical variable.\n",
    "df_test['Pclass'] = df_test['Pclass'].astype(str)\n",
    "\n",
    "# Performing OHE for categorical variables\n",
    "df_test = pd.get_dummies(df_test, dtype=float)"
   ]
  },
  {
   "cell_type": "code",
   "execution_count": 29,
   "id": "86678fdb",
   "metadata": {
    "execution": {
     "iopub.execute_input": "2023-12-09T11:22:36.056358Z",
     "iopub.status.busy": "2023-12-09T11:22:36.055876Z",
     "iopub.status.idle": "2023-12-09T11:22:36.093212Z",
     "shell.execute_reply": "2023-12-09T11:22:36.091453Z"
    },
    "papermill": {
     "duration": 0.063826,
     "end_time": "2023-12-09T11:22:36.096845",
     "exception": false,
     "start_time": "2023-12-09T11:22:36.033019",
     "status": "completed"
    },
    "tags": []
   },
   "outputs": [
    {
     "data": {
      "text/html": [
       "<div>\n",
       "<style scoped>\n",
       "    .dataframe tbody tr th:only-of-type {\n",
       "        vertical-align: middle;\n",
       "    }\n",
       "\n",
       "    .dataframe tbody tr th {\n",
       "        vertical-align: top;\n",
       "    }\n",
       "\n",
       "    .dataframe thead th {\n",
       "        text-align: right;\n",
       "    }\n",
       "</style>\n",
       "<table border=\"1\" class=\"dataframe\">\n",
       "  <thead>\n",
       "    <tr style=\"text-align: right;\">\n",
       "      <th></th>\n",
       "      <th>Age</th>\n",
       "      <th>SibSp</th>\n",
       "      <th>Parch</th>\n",
       "      <th>Fare</th>\n",
       "      <th>Pclass_1</th>\n",
       "      <th>Pclass_2</th>\n",
       "      <th>Pclass_3</th>\n",
       "      <th>Sex_female</th>\n",
       "      <th>Sex_male</th>\n",
       "      <th>Embarked_C</th>\n",
       "      <th>Embarked_Q</th>\n",
       "      <th>Embarked_S</th>\n",
       "    </tr>\n",
       "  </thead>\n",
       "  <tbody>\n",
       "    <tr>\n",
       "      <th>0</th>\n",
       "      <td>0.051450</td>\n",
       "      <td>0.000000</td>\n",
       "      <td>0.000000</td>\n",
       "      <td>0.031859</td>\n",
       "      <td>0.0</td>\n",
       "      <td>0.0</td>\n",
       "      <td>1.0</td>\n",
       "      <td>0.0</td>\n",
       "      <td>1.0</td>\n",
       "      <td>0.0</td>\n",
       "      <td>1.0</td>\n",
       "      <td>0.0</td>\n",
       "    </tr>\n",
       "    <tr>\n",
       "      <th>1</th>\n",
       "      <td>0.070092</td>\n",
       "      <td>0.078677</td>\n",
       "      <td>0.000000</td>\n",
       "      <td>0.030692</td>\n",
       "      <td>0.0</td>\n",
       "      <td>0.0</td>\n",
       "      <td>1.0</td>\n",
       "      <td>1.0</td>\n",
       "      <td>0.0</td>\n",
       "      <td>0.0</td>\n",
       "      <td>0.0</td>\n",
       "      <td>1.0</td>\n",
       "    </tr>\n",
       "    <tr>\n",
       "      <th>2</th>\n",
       "      <td>0.092462</td>\n",
       "      <td>0.000000</td>\n",
       "      <td>0.000000</td>\n",
       "      <td>0.034203</td>\n",
       "      <td>0.0</td>\n",
       "      <td>1.0</td>\n",
       "      <td>0.0</td>\n",
       "      <td>0.0</td>\n",
       "      <td>1.0</td>\n",
       "      <td>0.0</td>\n",
       "      <td>1.0</td>\n",
       "      <td>0.0</td>\n",
       "    </tr>\n",
       "    <tr>\n",
       "      <th>3</th>\n",
       "      <td>0.040266</td>\n",
       "      <td>0.000000</td>\n",
       "      <td>0.000000</td>\n",
       "      <td>0.032951</td>\n",
       "      <td>0.0</td>\n",
       "      <td>0.0</td>\n",
       "      <td>1.0</td>\n",
       "      <td>0.0</td>\n",
       "      <td>1.0</td>\n",
       "      <td>0.0</td>\n",
       "      <td>0.0</td>\n",
       "      <td>1.0</td>\n",
       "    </tr>\n",
       "    <tr>\n",
       "      <th>4</th>\n",
       "      <td>0.032809</td>\n",
       "      <td>0.078677</td>\n",
       "      <td>0.087523</td>\n",
       "      <td>0.037023</td>\n",
       "      <td>0.0</td>\n",
       "      <td>0.0</td>\n",
       "      <td>1.0</td>\n",
       "      <td>1.0</td>\n",
       "      <td>0.0</td>\n",
       "      <td>0.0</td>\n",
       "      <td>0.0</td>\n",
       "      <td>1.0</td>\n",
       "    </tr>\n",
       "    <tr>\n",
       "      <th>...</th>\n",
       "      <td>...</td>\n",
       "      <td>...</td>\n",
       "      <td>...</td>\n",
       "      <td>...</td>\n",
       "      <td>...</td>\n",
       "      <td>...</td>\n",
       "      <td>...</td>\n",
       "      <td>...</td>\n",
       "      <td>...</td>\n",
       "      <td>...</td>\n",
       "      <td>...</td>\n",
       "      <td>...</td>\n",
       "    </tr>\n",
       "    <tr>\n",
       "      <th>413</th>\n",
       "      <td>0.045146</td>\n",
       "      <td>0.000000</td>\n",
       "      <td>0.000000</td>\n",
       "      <td>0.032155</td>\n",
       "      <td>0.0</td>\n",
       "      <td>0.0</td>\n",
       "      <td>1.0</td>\n",
       "      <td>0.0</td>\n",
       "      <td>1.0</td>\n",
       "      <td>0.0</td>\n",
       "      <td>0.0</td>\n",
       "      <td>1.0</td>\n",
       "    </tr>\n",
       "    <tr>\n",
       "      <th>414</th>\n",
       "      <td>0.058161</td>\n",
       "      <td>0.000000</td>\n",
       "      <td>0.000000</td>\n",
       "      <td>0.076618</td>\n",
       "      <td>1.0</td>\n",
       "      <td>0.0</td>\n",
       "      <td>0.0</td>\n",
       "      <td>1.0</td>\n",
       "      <td>0.0</td>\n",
       "      <td>1.0</td>\n",
       "      <td>0.0</td>\n",
       "      <td>0.0</td>\n",
       "    </tr>\n",
       "    <tr>\n",
       "      <th>415</th>\n",
       "      <td>0.057416</td>\n",
       "      <td>0.000000</td>\n",
       "      <td>0.000000</td>\n",
       "      <td>0.031053</td>\n",
       "      <td>0.0</td>\n",
       "      <td>0.0</td>\n",
       "      <td>1.0</td>\n",
       "      <td>0.0</td>\n",
       "      <td>1.0</td>\n",
       "      <td>0.0</td>\n",
       "      <td>0.0</td>\n",
       "      <td>1.0</td>\n",
       "    </tr>\n",
       "    <tr>\n",
       "      <th>416</th>\n",
       "      <td>0.045146</td>\n",
       "      <td>0.000000</td>\n",
       "      <td>0.000000</td>\n",
       "      <td>0.032155</td>\n",
       "      <td>0.0</td>\n",
       "      <td>0.0</td>\n",
       "      <td>1.0</td>\n",
       "      <td>0.0</td>\n",
       "      <td>1.0</td>\n",
       "      <td>0.0</td>\n",
       "      <td>0.0</td>\n",
       "      <td>1.0</td>\n",
       "    </tr>\n",
       "    <tr>\n",
       "      <th>417</th>\n",
       "      <td>0.045146</td>\n",
       "      <td>0.078677</td>\n",
       "      <td>0.087523</td>\n",
       "      <td>0.045200</td>\n",
       "      <td>0.0</td>\n",
       "      <td>0.0</td>\n",
       "      <td>1.0</td>\n",
       "      <td>0.0</td>\n",
       "      <td>1.0</td>\n",
       "      <td>1.0</td>\n",
       "      <td>0.0</td>\n",
       "      <td>0.0</td>\n",
       "    </tr>\n",
       "  </tbody>\n",
       "</table>\n",
       "<p>418 rows × 12 columns</p>\n",
       "</div>"
      ],
      "text/plain": [
       "          Age     SibSp     Parch      Fare  Pclass_1  Pclass_2  Pclass_3  \\\n",
       "0    0.051450  0.000000  0.000000  0.031859       0.0       0.0       1.0   \n",
       "1    0.070092  0.078677  0.000000  0.030692       0.0       0.0       1.0   \n",
       "2    0.092462  0.000000  0.000000  0.034203       0.0       1.0       0.0   \n",
       "3    0.040266  0.000000  0.000000  0.032951       0.0       0.0       1.0   \n",
       "4    0.032809  0.078677  0.087523  0.037023       0.0       0.0       1.0   \n",
       "..        ...       ...       ...       ...       ...       ...       ...   \n",
       "413  0.045146  0.000000  0.000000  0.032155       0.0       0.0       1.0   \n",
       "414  0.058161  0.000000  0.000000  0.076618       1.0       0.0       0.0   \n",
       "415  0.057416  0.000000  0.000000  0.031053       0.0       0.0       1.0   \n",
       "416  0.045146  0.000000  0.000000  0.032155       0.0       0.0       1.0   \n",
       "417  0.045146  0.078677  0.087523  0.045200       0.0       0.0       1.0   \n",
       "\n",
       "     Sex_female  Sex_male  Embarked_C  Embarked_Q  Embarked_S  \n",
       "0           0.0       1.0         0.0         1.0         0.0  \n",
       "1           1.0       0.0         0.0         0.0         1.0  \n",
       "2           0.0       1.0         0.0         1.0         0.0  \n",
       "3           0.0       1.0         0.0         0.0         1.0  \n",
       "4           1.0       0.0         0.0         0.0         1.0  \n",
       "..          ...       ...         ...         ...         ...  \n",
       "413         0.0       1.0         0.0         0.0         1.0  \n",
       "414         1.0       0.0         1.0         0.0         0.0  \n",
       "415         0.0       1.0         0.0         0.0         1.0  \n",
       "416         0.0       1.0         0.0         0.0         1.0  \n",
       "417         0.0       1.0         1.0         0.0         0.0  \n",
       "\n",
       "[418 rows x 12 columns]"
      ]
     },
     "execution_count": 29,
     "metadata": {},
     "output_type": "execute_result"
    }
   ],
   "source": [
    "df_test"
   ]
  },
  {
   "cell_type": "code",
   "execution_count": 30,
   "id": "ca3630da",
   "metadata": {
    "execution": {
     "iopub.execute_input": "2023-12-09T11:22:36.146601Z",
     "iopub.status.busy": "2023-12-09T11:22:36.145329Z",
     "iopub.status.idle": "2023-12-09T11:22:36.165491Z",
     "shell.execute_reply": "2023-12-09T11:22:36.164487Z"
    },
    "papermill": {
     "duration": 0.048614,
     "end_time": "2023-12-09T11:22:36.168542",
     "exception": false,
     "start_time": "2023-12-09T11:22:36.119928",
     "status": "completed"
    },
    "tags": []
   },
   "outputs": [
    {
     "data": {
      "text/html": [
       "<div>\n",
       "<style scoped>\n",
       "    .dataframe tbody tr th:only-of-type {\n",
       "        vertical-align: middle;\n",
       "    }\n",
       "\n",
       "    .dataframe tbody tr th {\n",
       "        vertical-align: top;\n",
       "    }\n",
       "\n",
       "    .dataframe thead th {\n",
       "        text-align: right;\n",
       "    }\n",
       "</style>\n",
       "<table border=\"1\" class=\"dataframe\">\n",
       "  <thead>\n",
       "    <tr style=\"text-align: right;\">\n",
       "      <th></th>\n",
       "      <th>PassengerId</th>\n",
       "      <th>Survived</th>\n",
       "    </tr>\n",
       "  </thead>\n",
       "  <tbody>\n",
       "    <tr>\n",
       "      <th>0</th>\n",
       "      <td>892</td>\n",
       "      <td>0</td>\n",
       "    </tr>\n",
       "    <tr>\n",
       "      <th>1</th>\n",
       "      <td>893</td>\n",
       "      <td>1</td>\n",
       "    </tr>\n",
       "    <tr>\n",
       "      <th>2</th>\n",
       "      <td>894</td>\n",
       "      <td>0</td>\n",
       "    </tr>\n",
       "    <tr>\n",
       "      <th>3</th>\n",
       "      <td>895</td>\n",
       "      <td>0</td>\n",
       "    </tr>\n",
       "    <tr>\n",
       "      <th>4</th>\n",
       "      <td>896</td>\n",
       "      <td>0</td>\n",
       "    </tr>\n",
       "    <tr>\n",
       "      <th>...</th>\n",
       "      <td>...</td>\n",
       "      <td>...</td>\n",
       "    </tr>\n",
       "    <tr>\n",
       "      <th>413</th>\n",
       "      <td>1305</td>\n",
       "      <td>0</td>\n",
       "    </tr>\n",
       "    <tr>\n",
       "      <th>414</th>\n",
       "      <td>1306</td>\n",
       "      <td>1</td>\n",
       "    </tr>\n",
       "    <tr>\n",
       "      <th>415</th>\n",
       "      <td>1307</td>\n",
       "      <td>0</td>\n",
       "    </tr>\n",
       "    <tr>\n",
       "      <th>416</th>\n",
       "      <td>1308</td>\n",
       "      <td>0</td>\n",
       "    </tr>\n",
       "    <tr>\n",
       "      <th>417</th>\n",
       "      <td>1309</td>\n",
       "      <td>0</td>\n",
       "    </tr>\n",
       "  </tbody>\n",
       "</table>\n",
       "<p>418 rows × 2 columns</p>\n",
       "</div>"
      ],
      "text/plain": [
       "     PassengerId  Survived\n",
       "0            892         0\n",
       "1            893         1\n",
       "2            894         0\n",
       "3            895         0\n",
       "4            896         0\n",
       "..           ...       ...\n",
       "413         1305         0\n",
       "414         1306         1\n",
       "415         1307         0\n",
       "416         1308         0\n",
       "417         1309         0\n",
       "\n",
       "[418 rows x 2 columns]"
      ]
     },
     "execution_count": 30,
     "metadata": {},
     "output_type": "execute_result"
    }
   ],
   "source": [
    "result = pd.DataFrame(columns = ['PassengerId', 'Survived'])\n",
    "result['PassengerId'] = df_test_raw['PassengerId']\n",
    "result['Survived'] = model.predict(df_test).astype(int)\n",
    "\n",
    "result"
   ]
  },
  {
   "cell_type": "code",
   "execution_count": 31,
   "id": "2c3bcd77",
   "metadata": {
    "execution": {
     "iopub.execute_input": "2023-12-09T11:22:36.214316Z",
     "iopub.status.busy": "2023-12-09T11:22:36.212743Z",
     "iopub.status.idle": "2023-12-09T11:22:36.224822Z",
     "shell.execute_reply": "2023-12-09T11:22:36.223364Z"
    },
    "papermill": {
     "duration": 0.037761,
     "end_time": "2023-12-09T11:22:36.227850",
     "exception": false,
     "start_time": "2023-12-09T11:22:36.190089",
     "status": "completed"
    },
    "tags": []
   },
   "outputs": [],
   "source": [
    "result.to_csv('submission.csv', index=False)"
   ]
  }
 ],
 "metadata": {
  "kaggle": {
   "accelerator": "none",
   "dataSources": [
    {
     "databundleVersionId": 26502,
     "sourceId": 3136,
     "sourceType": "competition"
    }
   ],
   "dockerImageVersionId": 30615,
   "isGpuEnabled": false,
   "isInternetEnabled": true,
   "language": "python",
   "sourceType": "notebook"
  },
  "kernelspec": {
   "display_name": "Python 3",
   "language": "python",
   "name": "python3"
  },
  "language_info": {
   "codemirror_mode": {
    "name": "ipython",
    "version": 3
   },
   "file_extension": ".py",
   "mimetype": "text/x-python",
   "name": "python",
   "nbconvert_exporter": "python",
   "pygments_lexer": "ipython3",
   "version": "3.11.5"
  },
  "papermill": {
   "default_parameters": {},
   "duration": 13.586272,
   "end_time": "2023-12-09T11:22:37.373831",
   "environment_variables": {},
   "exception": null,
   "input_path": "__notebook__.ipynb",
   "output_path": "__notebook__.ipynb",
   "parameters": {},
   "start_time": "2023-12-09T11:22:23.787559",
   "version": "2.4.0"
  }
 },
 "nbformat": 4,
 "nbformat_minor": 5
}
